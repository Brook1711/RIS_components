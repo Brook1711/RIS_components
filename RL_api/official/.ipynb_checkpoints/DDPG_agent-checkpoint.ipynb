{
 "cells": [
  {
   "cell_type": "markdown",
   "id": "69f6ed52",
   "metadata": {},
   "source": [
    "# DDPG_agent\n",
    "This file contains the agent generation code, note that the auther will first update this file and reconstruct the code in corresponding python file 'DDPG_agent.py'\n",
    "\n",
    "In this python notebook, we will take a 'gym' game as the example environment to test out the agents.\n",
    "\n",
    "Keep in mind that code used in this folder('official') ultilized the official RL api provided by tf_agents\n",
    "\n",
    "## first import the tensorflow lib and check the version:\n",
    "the version this project used is:\n",
    "```shell\n",
    "tf versions:            2.5.0\n",
    "tf_agents versions:     0.8.0\n",
    "```"
   ]
  },
  {
   "cell_type": "code",
   "execution_count": 1,
   "id": "6cdb220d",
   "metadata": {},
   "outputs": [
    {
     "name": "stdout",
     "output_type": "stream",
     "text": [
      "tf versions:            2.5.0\n",
      "tf_agents versions:     0.8.0\n"
     ]
    }
   ],
   "source": [
    "import tensorflow as tf\n",
    "import tf_agents\n",
    "import gym\n",
    "print('tf versions:           ', tf.__version__)\n",
    "print('tf_agents versions:    ', tf_agents.__version__)"
   ]
  },
  {
   "cell_type": "markdown",
   "id": "3e5bb8ba",
   "metadata": {},
   "source": [
    "## Next to check is the GPU device(s) is available:\n",
    "the output information should be like the following:\n",
    "```shell\n",
    "\n",
    "[PhysicalDevice(name='/physical_device:GPU:0', device_type='GPU')]\n",
    "```\n",
    "then your code should be ready to run on your GPU."
   ]
  },
  {
   "cell_type": "code",
   "execution_count": 2,
   "id": "22e12e87",
   "metadata": {
    "scrolled": true
   },
   "outputs": [
    {
     "data": {
      "text/plain": [
       "[PhysicalDevice(name='/physical_device:GPU:0', device_type='GPU')]"
      ]
     },
     "execution_count": 2,
     "metadata": {},
     "output_type": "execute_result"
    }
   ],
   "source": [
    "tf.config.list_physical_devices('GPU')"
   ]
  },
  {
   "cell_type": "markdown",
   "id": "b7712cee",
   "metadata": {},
   "source": [
    "# Test out a simple gym environment\n",
    "\n",
    "the wrappers lib can record the process in a .mp4 file"
   ]
  },
  {
   "cell_type": "code",
   "execution_count": 6,
   "id": "540cf9c2",
   "metadata": {},
   "outputs": [
    {
     "data": {
      "image/png": "[encoded data removed]",
      "text/plain": [
       "<Figure size 432x288 with 1 Axes>"
      ]
     },
     "metadata": {
      "needs_background": "light"
     },
     "output_type": "display_data"
    }
   ],
   "source": [
    "import gym\n",
    "from gym import wrappers\n",
    "\n",
    "env = gym.make('SpaceInvaders-v0')\n",
    "env = wrappers.Monitor(env, \"./gym-results\", force=True)\n",
    "env.reset()\n",
    "for _ in range(1000):\n",
    "    action = env.action_space.sample()\n",
    "    observation, reward, done, info = env.step(action)\n",
    "    if done: break\n",
    "env.close()"
   ]
  },
  {
   "cell_type": "code",
   "execution_count": null,
   "id": "f533fcbb",
   "metadata": {},
   "outputs": [],
   "source": []
  }
 ],
 "metadata": {
  "kernelspec": {
   "display_name": "tf",
   "language": "python",
   "name": "tf"
  },
  "language_info": {
   "codemirror_mode": {
    "name": "ipython",
    "version": 3
   },
   "file_extension": ".py",
   "mimetype": "text/x-python",
   "name": "python",
   "nbconvert_exporter": "python",
   "pygments_lexer": "ipython3",
   "version": "3.8.8"
  },
  "metadata": {
   "interpreter": {
    "hash": "7044b324f88c4208d441c8fce3c8f6c454026eeaf7e810a2852062e3590255dc"
   }
  }
 },
 "nbformat": 4,
 "nbformat_minor": 5
}
