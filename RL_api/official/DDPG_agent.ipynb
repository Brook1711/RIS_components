{
 "cells": [
  {
   "source": [
    "# DDPG_agent\n",
    "This file contains the agent generation code, node that the auther will first update this file and reconstruct the code in corresponding python file 'DDPG_agent.py'\n",
    "\n",
    "Keep in mind that code used in this folder('official') ultilized the official RL api provided by tf_agents\n",
    "\n",
    "## first import the tensorflow lib and check the version:\n",
    "the version this project used is:\n",
    "```shell\n",
    "tf versions:            2.5.0\n",
    "tf_agents versions:     0.8.0\n",
    "```"
   ],
   "cell_type": "markdown",
   "metadata": {}
  },
  {
   "cell_type": "code",
   "execution_count": 8,
   "metadata": {},
   "outputs": [
    {
     "output_type": "stream",
     "name": "stdout",
     "text": [
      "tf versions:            2.5.0\ntf_agents versions:     0.8.0\n"
     ]
    }
   ],
   "source": [
    "import tensorflow as tf\n",
    "import tf_agents\n",
    "print('tf versions:           ', tf.__version__)\n",
    "print('tf_agents versions:    ', tf_agents.__version__)"
   ]
  },
  {
   "source": [
    "## Next to check is the GPU device(s) is available:\n",
    "the output information should be like the following:\n",
    "```shell\n",
    "\n",
    "[PhysicalDevice(name='/physical_device:GPU:0', device_type='GPU')]\n",
    "```\n",
    "then your code should be ready to run on your GPU."
   ],
   "cell_type": "markdown",
   "metadata": {}
  },
  {
   "cell_type": "code",
   "execution_count": 4,
   "id": "22e12e87",
   "metadata": {
    "scrolled": true
   },
   "outputs": [
    {
     "data": {
      "text/plain": [
       "[PhysicalDevice(name='/physical_device:GPU:0', device_type='GPU')]"
      ]
     },
     "execution_count": 4,
     "metadata": {},
     "output_type": "execute_result"
    }
   ],
   "source": [
    "tf.config.list_physical_devices('GPU')"
   ]
  },
  {
   "cell_type": "code",
   "execution_count": null,
   "id": "588df015",
   "metadata": {},
   "outputs": [],
   "source": []
  }
 ],
 "metadata": {
  "kernelspec": {
   "display_name": "tf",
   "language": "python",
   "name": "tf"
  },
  "language_info": {
   "codemirror_mode": {
    "name": "ipython",
    "version": 3
   },
   "file_extension": ".py",
   "mimetype": "text/x-python",
   "name": "python",
   "nbconvert_exporter": "python",
   "pygments_lexer": "ipython3",
   "version": "3.8.8"
  }
 },
 "nbformat": 4,
 "nbformat_minor": 5
}